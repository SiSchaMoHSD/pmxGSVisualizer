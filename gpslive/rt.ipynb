{
 "cells": [
  {
   "cell_type": "code",
   "execution_count": null,
   "metadata": {},
   "outputs": [],
   "source": [
    "import folium\n",
    "from folium import JsCode\n",
    "from folium.plugins import Realtime\n",
    "\n",
    "m = folium.Map(location=[40.73, -73.94], zoom_start=12)\n",
    "source = \"https://raw.githubusercontent.com/python-visualization/folium-example-data/main/subway_stations.geojson\"\n",
    "\n",
    "Realtime(\n",
    "    source,\n",
    "    get_feature_id=JsCode(\"(f) => { return f.properties.objectid }\"),\n",
    "    point_to_layer=JsCode(\"(f, latlng) => { return L.circleMarker(latlng, {radius: 8, fillOpacity: 0.2, color: 'red'}); }\"),\n",
    "    interval=10000,\n",
    ").add_to(m)\n",
    "\n",
    "m"
   ]
  },
  {
   "cell_type": "code",
   "execution_count": 1,
   "metadata": {},
   "outputs": [
    {
     "name": "stdout",
     "output_type": "stream",
     "text": [
      "{'latitude': '51.402865', 'longitude': '6.903985', 'altitude': '466.41449', 'total_counts': '0.9500000000000002'}\n"
     ]
    }
   ],
   "source": [
    "import csv\n",
    "\n",
    "with open('gpstobfilt.csv', 'r') as csvfile:\n",
    "    reader = csv.DictReader(csvfile)\n",
    "    row = next(reader)\n",
    "    print(row)"
   ]
  }
 ],
 "metadata": {
  "kernelspec": {
   "display_name": "ctkGUI",
   "language": "python",
   "name": "python3"
  },
  "language_info": {
   "codemirror_mode": {
    "name": "ipython",
    "version": 3
   },
   "file_extension": ".py",
   "mimetype": "text/x-python",
   "name": "python",
   "nbconvert_exporter": "python",
   "pygments_lexer": "ipython3",
   "version": "3.12.1"
  }
 },
 "nbformat": 4,
 "nbformat_minor": 2
}
